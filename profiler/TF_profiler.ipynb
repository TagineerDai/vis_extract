{
 "cells": [
  {
   "cell_type": "markdown",
   "metadata": {},
   "source": [
    "# FLOPS\n",
    "ref: <https://stackoverflow.com/questions/45085938/tensorflow-is-there-a-way-to-measure-flops-for-a-model>\n",
    "```python\n",
    "g = tf.Graph()\n",
    "run_meta = tf.RunMetadata()\n",
    "with g.as_default():\n",
    "    A = tf.Variable(tf.random_normal( [25,16] ))\n",
    "    B = tf.Variable(tf.random_normal( [16,9] ))\n",
    "    C = tf.matmul(A,B) # shape=[25,9]\n",
    "\n",
    "    opts = tf.profiler.ProfileOptionBuilder.float_operation()    \n",
    "    flops = tf.profiler.profile(g, run_meta=run_meta, cmd='op', options=opts)\n",
    "    if flops is not None:\n",
    "        print('Flops should be ~',2*25*16*9)\n",
    "        print('25 x 25 x 9 would be',2*25*25*9) # ignores internal dim, repeats first\n",
    "        print('TF stats gives',flops.total_float_ops)\n",
    "```"
   ]
  },
  {
   "cell_type": "code",
   "execution_count": 1,
   "metadata": {},
   "outputs": [],
   "source": [
    "import tensorflow as tf\n",
    "g = tf.Graph()\n",
    "run_meta = tf.RunMetadata()"
   ]
  },
  {
   "cell_type": "code",
   "execution_count": 2,
   "metadata": {},
   "outputs": [
    {
     "name": "stdout",
     "output_type": "stream",
     "text": [
      "Flops should be ~ 7200\n",
      "25 x 25 x 9 would be 11250\n",
      "TF stats gives 8288\n"
     ]
    }
   ],
   "source": [
    "with g.as_default():\n",
    "    A = tf.Variable(tf.random_normal( [25,16] ))\n",
    "    B = tf.Variable(tf.random_normal( [16,9] ))\n",
    "    C = tf.matmul(A,B) # shape=[25,9]\n",
    "\n",
    "    opts = tf.profiler.ProfileOptionBuilder.float_operation()    \n",
    "    flops = tf.profiler.profile(g, run_meta=run_meta, cmd='op', options=opts)\n",
    "    if flops is not None:\n",
    "        print('Flops should be ~',2*25*16*9)\n",
    "        print('25 x 25 x 9 would be',2*25*25*9) # ignores internal dim, repeats first\n",
    "        print('TF stats gives',flops.total_float_ops)"
   ]
  },
  {
   "cell_type": "markdown",
   "metadata": {},
   "source": [
    "The different between 7200 & 8288 is caused by `random_normal`."
   ]
  },
  {
   "cell_type": "code",
   "execution_count": 3,
   "metadata": {},
   "outputs": [
    {
     "name": "stdout",
     "output_type": "stream",
     "text": [
      "FLOP before freezing 8288\n",
      "INFO:tensorflow:Froze 2 variables.\n",
      "Converted 2 variables to const ops.\n",
      "FLOP after freezing 7200\n"
     ]
    }
   ],
   "source": [
    "# ***** (1) Create Graph *****\n",
    "g = tf.Graph()\n",
    "sess = tf.Session(graph=g)\n",
    "with g.as_default():\n",
    "    A = tf.Variable(initial_value=tf.random_normal([25, 16]))\n",
    "    B = tf.Variable(initial_value=tf.random_normal([16, 9]))\n",
    "    C = tf.matmul(A, B, name='output')\n",
    "    sess.run(tf.global_variables_initializer())\n",
    "    flops = tf.profiler.profile(g, options = tf.profiler.ProfileOptionBuilder.float_operation())\n",
    "    print('FLOP before freezing', flops.total_float_ops)\n",
    "# *****************************        \n",
    "\n",
    "# ***** (2) freeze graph *****\n",
    "output_graph_def = graph_util.convert_variables_to_constants(sess, g.as_graph_def(), ['output'])\n",
    "\n",
    "with tf.gfile.GFile('graph.pb', \"wb\") as f:\n",
    "    f.write(output_graph_def.SerializeToString())\n",
    "# *****************************\n",
    "\n",
    "\n",
    "# ***** (3) Load frozen graph *****\n",
    "g2 = load_pb('./graph.pb')\n",
    "with g2.as_default():\n",
    "    flops = tf.profiler.profile(g2, options = tf.profiler.ProfileOptionBuilder.float_operation())\n",
    "    print('FLOP after freezing', flops.total_float_ops)"
   ]
  },
  {
   "cell_type": "markdown",
   "metadata": {},
   "source": [
    "### Test flops"
   ]
  },
  {
   "cell_type": "code",
   "execution_count": 1,
   "metadata": {},
   "outputs": [],
   "source": [
    "import tensorflow as tf\n",
    "from tensorflow.python.framework import graph_util"
   ]
  },
  {
   "cell_type": "code",
   "execution_count": 2,
   "metadata": {},
   "outputs": [],
   "source": [
    "def load_pb(pb):\n",
    "    with tf.gfile.GFile(pb, \"rb\") as f:\n",
    "        graph_def = tf.GraphDef()\n",
    "        graph_def.ParseFromString(f.read())\n",
    "    with tf.Graph().as_default() as graph:\n",
    "        tf.import_graph_def(graph_def, name='')\n",
    "        return graph"
   ]
  },
  {
   "cell_type": "code",
   "execution_count": 3,
   "metadata": {},
   "outputs": [
    {
     "name": "stdout",
     "output_type": "stream",
     "text": [
      "FLOP before freezing 8288\n"
     ]
    }
   ],
   "source": [
    "# ***** (1) Create Graph *****\n",
    "g = tf.Graph()\n",
    "sess = tf.Session(graph=g)\n",
    "with g.as_default():\n",
    "    A = tf.Variable(initial_value=tf.random_normal([25, 16]))\n",
    "    B = tf.Variable(initial_value=tf.random_normal([16, 9]))\n",
    "    C = tf.matmul(A, B, name='output')\n",
    "    sess.run(tf.global_variables_initializer())\n",
    "    flops = tf.profiler.profile(g, options = tf.profiler.ProfileOptionBuilder.float_operation())\n",
    "    print('FLOP before freezing', flops.total_float_ops)\n",
    "# *****************************    "
   ]
  },
  {
   "cell_type": "code",
   "execution_count": 11,
   "metadata": {},
   "outputs": [],
   "source": [
    "def calculate_flops(model, sess):\n",
    "    output_graph_def = graph_util.convert_variables_to_constants(sess, g.as_graph_def(), ['output'])\n",
    "    try:\n",
    "        os.mkdir('./tmp')\n",
    "    except:\n",
    "        pass\n",
    "        # print(\"Use the ./tmp dir as model frozen buffer.\")\n",
    "    with tf.gfile.GFile('./tmp/graph.pb', \"wb\") as f:\n",
    "        f.write(output_graph_def.SerializeToString())\n",
    "    g2 = load_pb('./tmp/graph.pb')\n",
    "    with g2.as_default():\n",
    "        flops = tf.profiler.profile(g2, options = tf.profiler.ProfileOptionBuilder.float_operation())\n",
    "    # return flops.total_float_ops\n",
    "    return flops "
   ]
  },
  {
   "cell_type": "code",
   "execution_count": 12,
   "metadata": {},
   "outputs": [
    {
     "name": "stdout",
     "output_type": "stream",
     "text": [
      "INFO:tensorflow:Froze 2 variables.\n",
      "Converted 2 variables to const ops.\n"
     ]
    }
   ],
   "source": [
    "flops = calculate_flops(g, sess)"
   ]
  },
  {
   "cell_type": "code",
   "execution_count": 16,
   "metadata": {},
   "outputs": [
    {
     "data": {
      "text/plain": [
       "name: \"_TFProfRoot\"\n",
       "children {\n",
       "  name: \"output\"\n",
       "  float_ops: 7200\n",
       "  total_float_ops: 7200\n",
       "  input_shapes {\n",
       "    value {\n",
       "      dim {\n",
       "        size: 25\n",
       "      }\n",
       "      dim {\n",
       "        size: 16\n",
       "      }\n",
       "    }\n",
       "  }\n",
       "  input_shapes {\n",
       "    key: 1\n",
       "    value {\n",
       "      dim {\n",
       "        size: 16\n",
       "      }\n",
       "      dim {\n",
       "        size: 9\n",
       "      }\n",
       "    }\n",
       "  }\n",
       "  total_definition_count: 1\n",
       "}\n",
       "total_float_ops: 7200\n",
       "total_definition_count: 2"
      ]
     },
     "execution_count": 16,
     "metadata": {},
     "output_type": "execute_result"
    }
   ],
   "source": [
    "flops"
   ]
  },
  {
   "cell_type": "code",
   "execution_count": 18,
   "metadata": {},
   "outputs": [
    {
     "name": "stdout",
     "output_type": "stream",
     "text": [
      "FLOP before freezing 7200\n"
     ]
    }
   ],
   "source": [
    "print('FLOP before freezing', flops.total_float_ops)"
   ]
  },
  {
   "cell_type": "markdown",
   "metadata": {},
   "source": [
    "# Size\n",
    "ref: <https://www.tensorflow.org/mobile/optimizing#model_size>\n",
    "```sh\n",
    "docker pull tagineerdai/tensorflow-bazel-build:latest\n",
    "docker run -it -v /abspath/to/your/tmp/graph.pb:/home/app/graph.pb tagineerdai/tensorflow-bazel-build\n",
    "cd /home/app/tensorflow\n",
    "bazel build tensorflow/tools/graph_transforms:summarize_graph\n",
    "bazel-bin/tensorflow/tools/graph_transforms/summarize_graph --in_graph=./../graph.pb\n",
    "``` \n",
    "\n",
    "Output\n",
    "```sh\n",
    "No inputs spotted.\n",
    "No variables spotted.\n",
    "Found 1 possible outputs: (name=output, op=MatMul)\n",
    "Found 544 (544) const parameters, 0 (0) variable parameters, and 0 control_edges\n",
    "Op types used: 2 Const, 2 Identity, 1 MatMul\n",
    "To use with tensorflow/tools/benchmark:benchmark_model try these arguments:\n",
    "bazel run tensorflow/tools/benchmark:benchmark_model -- --graph=graph.pb --show_flops --input_layer= --input_layer_type= --input_layer_shape= --output_layer=output\n",
    "```"
   ]
  },
  {
   "cell_type": "code",
   "execution_count": 2,
   "metadata": {},
   "outputs": [],
   "source": [
    "summarize='''No variables spotted.\n",
    "Found 1 possible outputs: (name=output, op=MatMul)\n",
    "Found 544 (544) const parameters, 0 (0) variable parameters, and 0 control_edges\n",
    "Op types used: 2 Const, 2 Identity, 1 MatMul\n",
    "To use with tensorflow/tools/benchmark:benchmark_model try these arguments:\n",
    "bazel run tensorflow/tools/benchmark:benchmark_model -- --graph=graph.pb --show_flops --input_layer= --input_layer_type= --input_layer_shape= --output_layer=output'''"
   ]
  },
  {
   "cell_type": "code",
   "execution_count": 3,
   "metadata": {},
   "outputs": [
    {
     "data": {
      "text/plain": [
       "['No',\n",
       " 'variables',\n",
       " 'spotted.\\nFound',\n",
       " '1',\n",
       " 'possible',\n",
       " 'outputs:',\n",
       " '(name=output,',\n",
       " 'op=MatMul)\\nFound',\n",
       " '544',\n",
       " '(544)',\n",
       " 'const',\n",
       " 'parameters,',\n",
       " '0',\n",
       " '(0)',\n",
       " 'variable',\n",
       " 'parameters,',\n",
       " 'and',\n",
       " '0',\n",
       " 'control_edges\\nOp',\n",
       " 'types',\n",
       " 'used:',\n",
       " '2',\n",
       " 'Const,',\n",
       " '2',\n",
       " 'Identity,',\n",
       " '1',\n",
       " 'MatMul\\nTo',\n",
       " 'use',\n",
       " 'with',\n",
       " 'tensorflow/tools/benchmark:benchmark_model',\n",
       " 'try',\n",
       " 'these',\n",
       " 'arguments:\\nbazel',\n",
       " 'run',\n",
       " 'tensorflow/tools/benchmark:benchmark_model',\n",
       " '--',\n",
       " '--graph=graph.pb',\n",
       " '--show_flops',\n",
       " '--input_layer=',\n",
       " '--input_layer_type=',\n",
       " '--input_layer_shape=',\n",
       " '--output_layer=output']"
      ]
     },
     "execution_count": 3,
     "metadata": {},
     "output_type": "execute_result"
    }
   ],
   "source": [
    "summary = summarize.strip().split(' ')\n",
    "summary"
   ]
  },
  {
   "cell_type": "code",
   "execution_count": 15,
   "metadata": {},
   "outputs": [],
   "source": [
    "size = 0\n",
    "summary = summarize.strip().split(' ')\n",
    "while summary[summary.index('const') + 1] != 'parameters,':\n",
    "    starter = summary.index('const')+1\n",
    "    summary = summary[starter:]\n",
    "if len(summary) is not 0:\n",
    "    size = int(summary[summary.index('const') - 2])"
   ]
  },
  {
   "cell_type": "code",
   "execution_count": 16,
   "metadata": {},
   "outputs": [
    {
     "data": {
      "text/plain": [
       "544"
      ]
     },
     "execution_count": 16,
     "metadata": {},
     "output_type": "execute_result"
    }
   ],
   "source": [
    "size"
   ]
  },
  {
   "cell_type": "code",
   "execution_count": 18,
   "metadata": {},
   "outputs": [
    {
     "data": {
      "text/plain": [
       "['MS_code_base', 'libtensorflow_framework.so', 'summarize_graph', 'graph.pb']"
      ]
     },
     "execution_count": 18,
     "metadata": {},
     "output_type": "execute_result"
    }
   ],
   "source": [
    "import os, sys\n",
    "os.listdir('./tmp')"
   ]
  },
  {
   "cell_type": "code",
   "execution_count": 25,
   "metadata": {},
   "outputs": [
    {
     "name": "stdout",
     "output_type": "stream",
     "text": [
      "['/home/t-yada/Projects/demo.tf/ModelBuilder/tmp', '', '/usr/lib/python35.zip', '/usr/lib/python3.5', '/usr/lib/python3.5/plat-x86_64-linux-gnu', '/usr/lib/python3.5/lib-dynload', '/home/t-yada/.local/lib/python3.5/site-packages', '/usr/local/lib/python3.5/dist-packages', '/usr/lib/python3/dist-packages', '/usr/local/lib/python3.5/dist-packages/IPython/extensions', '/home/t-yada/.ipython', './tmp', './tmp', '/home/t-yada/Projects/demo.tf/ModelBuilder/tmp']\n"
     ]
    }
   ],
   "source": [
    "import sys\n",
    "sys.path.insert(0, os.path.abspath('./tmp'))\n",
    "print(sys.path)"
   ]
  },
  {
   "cell_type": "code",
   "execution_count": 27,
   "metadata": {},
   "outputs": [
    {
     "data": {
      "text/plain": [
       "b'No inputs spotted.\\nNo variables spotted.\\nFound 1 possible outputs: (name=output, op=MatMul) \\nFound 544 (544) const parameters, 0 (0) variable parameters, and 0 control_edges\\nOp types used: 2 Const, 2 Identity, 1 MatMul\\nTo use with tensorflow/tools/benchmark:benchmark_model try these arguments:\\nbazel run tensorflow/tools/benchmark:benchmark_model -- --graph=./tmp/graph.pb --show_flops --input_layer= --input_layer_type= --input_layer_shape= --output_layer=output\\n'"
      ]
     },
     "execution_count": 27,
     "metadata": {},
     "output_type": "execute_result"
    }
   ],
   "source": [
    "from subprocess import Popen, PIPE\n",
    "\n",
    "p = Popen(['./tmp/summarize_graph', '--in_graph=./tmp/graph.pb'], stdout=PIPE, stderr=PIPE, stdin=PIPE)\n",
    "\n",
    "output = p.stdout.read()\n",
    "output"
   ]
  },
  {
   "cell_type": "code",
   "execution_count": 29,
   "metadata": {},
   "outputs": [],
   "source": [
    "import sys\n",
    "sys.path.insert(0, os.path.abspath('./utils'))\n",
    "from subprocess import Popen, PIPE\n",
    "p = Popen(['./utils/summarize_graph', '--in_graph=./tmp/graph.pb'], stdout=PIPE, stderr=PIPE, stdin=PIPE)\n",
    "output = p.stdout.read()\n",
    "size = 0\n",
    "summary = str(output).strip().split(' ')\n",
    "while summary[summary.index('const') + 1] != 'parameters,':\n",
    "    starter = summary.index('const')+1\n",
    "    summary = summary[starter:]\n",
    "if len(summary) is not 0:\n",
    "    size = int(summary[summary.index('const') - 2])\n"
   ]
  },
  {
   "cell_type": "code",
   "execution_count": 30,
   "metadata": {},
   "outputs": [
    {
     "data": {
      "text/plain": [
       "544"
      ]
     },
     "execution_count": 30,
     "metadata": {},
     "output_type": "execute_result"
    }
   ],
   "source": [
    "size"
   ]
  },
  {
   "cell_type": "markdown",
   "metadata": {},
   "source": [
    "### Test size"
   ]
  },
  {
   "cell_type": "code",
   "execution_count": 3,
   "metadata": {},
   "outputs": [],
   "source": [
    "import tensorflow as tf\n",
    "g = tf.Graph()\n",
    "run_meta = tf.RunMetadata()\n",
    "# ***** (1) Create Graph *****\n",
    "g = tf.Graph()\n",
    "sess = tf.Session(graph=g)\n",
    "with g.as_default():\n",
    "    A = tf.Variable(initial_value=tf.random_normal([25, 16]))\n",
    "    B = tf.Variable(initial_value=tf.random_normal([16, 9]))\n",
    "    C = tf.matmul(A, B, name='output')\n",
    "    sess.run(tf.global_variables_initializer())\n",
    "# *****************************    "
   ]
  },
  {
   "cell_type": "code",
   "execution_count": 10,
   "metadata": {},
   "outputs": [],
   "source": [
    "import sys, os\n",
    "from subprocess import Popen, PIPE\n",
    "import tensorflow as tf\n",
    "from tensorflow.python.framework import graph_util\n",
    "def calculate_size(model, sess):\n",
    "    output_graph_def = graph_util.convert_variables_to_constants(sess, g.as_graph_def(), ['output'])\n",
    "    try:\n",
    "        os.mkdir('./tmp')\n",
    "    except:\n",
    "        pass\n",
    "        # print(\"Use the ./tmp dir as model frozen buffer.\")\n",
    "    sys.path.insert(0, os.path.abspath('./utils'))\n",
    "    with tf.gfile.GFile('./tmp/graph.pb', \"wb\") as f:\n",
    "        f.write(output_graph_def.SerializeToString())\n",
    "    p = Popen(['./utils/summarize_graph', '--in_graph=./tmp/graph.pb'], stdout=PIPE, stderr=PIPE, stdin=PIPE)\n",
    "    output = p.stdout.read()\n",
    "    size = 0\n",
    "    summary = str(output).strip().split(' ')\n",
    "    while summary[summary.index('const') + 1] != 'parameters,':\n",
    "        starter = summary.index('const')+1\n",
    "        summary = summary[starter:]\n",
    "    if len(summary) > 1:\n",
    "        size = int(summary[summary.index('const') - 2])\n",
    "    else:\n",
    "        raise ValueError(str(output))\n",
    "    return size"
   ]
  },
  {
   "cell_type": "code",
   "execution_count": 11,
   "metadata": {},
   "outputs": [
    {
     "name": "stdout",
     "output_type": "stream",
     "text": [
      "INFO:tensorflow:Froze 2 variables.\n",
      "Converted 2 variables to const ops.\n"
     ]
    },
    {
     "data": {
      "text/plain": [
       "544"
      ]
     },
     "execution_count": 11,
     "metadata": {},
     "output_type": "execute_result"
    }
   ],
   "source": [
    "calculate_size(g, sess)"
   ]
  },
  {
   "cell_type": "markdown",
   "metadata": {},
   "source": [
    "# Architecture\n",
    "ref: <https://blog.metaflow.fr/tensorflow-how-to-freeze-a-model-and-serve-it-with-a-python-api-d4f3596b3adc>"
   ]
  },
  {
   "cell_type": "code",
   "execution_count": null,
   "metadata": {},
   "outputs": [],
   "source": []
  }
 ],
 "metadata": {
  "kernelspec": {
   "display_name": "Python 3",
   "language": "python",
   "name": "python3"
  },
  "language_info": {
   "codemirror_mode": {
    "name": "ipython",
    "version": 3
   },
   "file_extension": ".py",
   "mimetype": "text/x-python",
   "name": "python",
   "nbconvert_exporter": "python",
   "pygments_lexer": "ipython3",
   "version": "3.5.2"
  }
 },
 "nbformat": 4,
 "nbformat_minor": 2
}
